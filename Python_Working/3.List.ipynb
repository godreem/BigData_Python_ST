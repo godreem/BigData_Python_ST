{
 "cells": [
  {
   "cell_type": "markdown",
   "metadata": {},
   "source": [
    "## 숫자형을 활용한 사칙연산"
   ]
  },
  {
   "cell_type": "code",
   "execution_count": 2,
   "metadata": {},
   "outputs": [
    {
     "name": "stdout",
     "output_type": "stream",
     "text": [
      "135.456\n"
     ]
    }
   ],
   "source": [
    "# 파이썬 사칙연산\n",
    "integer_value = 123\n",
    "float_value = 12.456\n",
    "\n",
    "#1. 더하기 연산\n",
    "sum = integer_value+float_value\n",
    "print(sum)"
   ]
  },
  {
   "cell_type": "code",
   "execution_count": 3,
   "metadata": {},
   "outputs": [],
   "source": [
    "# 나머지 연산은 주로 패턴을 만들 때 사용된다.\n",
    "# 예를 들면 1,2,3,4,5,6 주 일때 (주차정보)\n",
    "# 3으로 나누면 1 => 0 , 2 => 0 , 3 => 1 , 4 => 0 , 5 => 0 , 6 => 1 이렇게 하면\n",
    "# 패턴이 001001 이런식으로 패턴이 나옴 \n",
    "\n"
   ]
  },
  {
   "cell_type": "code",
   "execution_count": 4,
   "metadata": {},
   "outputs": [
    {
     "name": "stdout",
     "output_type": "stream",
     "text": [
      "1532.088\n"
     ]
    }
   ],
   "source": [
    "multiple = integer_value * float_value\n",
    "print(multiple)"
   ]
  },
  {
   "cell_type": "code",
   "execution_count": 6,
   "metadata": {},
   "outputs": [
    {
     "name": "stdout",
     "output_type": "stream",
     "text": [
      "144\n"
     ]
    }
   ],
   "source": [
    "integer_value2 = int(float_value)\n",
    "exponential = integer_value2**2\n",
    "print(exponential)\n"
   ]
  },
  {
   "cell_type": "code",
   "execution_count": 7,
   "metadata": {},
   "outputs": [],
   "source": [
    "# float / int면 float가 아니라 int가 나온다 파이썬 2점대에서는... \n",
    "# 3점대와 2점대가 결과가 다르게 나올 수 있다. "
   ]
  },
  {
   "cell_type": "markdown",
   "metadata": {},
   "source": [
    "## 문자열 "
   ]
  },
  {
   "cell_type": "code",
   "execution_count": 9,
   "metadata": {
    "scrolled": true
   },
   "outputs": [
    {
     "name": "stdout",
     "output_type": "stream",
     "text": [
      "plotech student\n"
     ]
    }
   ],
   "source": [
    "# 문자열을 조작하는 경우가 많아서 중요함 \n",
    "# 문자열더하기 \n",
    "head = \"plotech\"\n",
    "tail = \"student\"\n",
    "fullString = head + \" \" + tail\n",
    "print(fullString)"
   ]
  },
  {
   "cell_type": "code",
   "execution_count": 10,
   "metadata": {},
   "outputs": [
    {
     "name": "stdout",
     "output_type": "stream",
     "text": [
      "********************문자열연산프로그램********************\n"
     ]
    }
   ],
   "source": [
    "print(\"*\"*20+\"문자열연산프로그램\"+\"*\"*20)"
   ]
  },
  {
   "cell_type": "code",
   "execution_count": 11,
   "metadata": {},
   "outputs": [
    {
     "name": "stdout",
     "output_type": "stream",
     "text": [
      "2\n",
      "2018\n",
      "01\n"
     ]
    }
   ],
   "source": [
    "# 문자열 인덱싱 0부터 시작\n",
    "yearweek = \"201801\"\n",
    "print(yearweek[0]) # 첫번째 문자열\n",
    "print(yearweek[0:4]) # 0~4번째 전 문자열\n",
    "print(yearweek[4:]) # 4번째 부터 끝까지 "
   ]
  },
  {
   "cell_type": "code",
   "execution_count": 12,
   "metadata": {},
   "outputs": [],
   "source": [
    "# 문자열 개수 세기 \n"
   ]
  },
  {
   "cell_type": "code",
   "execution_count": 13,
   "metadata": {},
   "outputs": [
    {
     "name": "stdout",
     "output_type": "stream",
     "text": [
      "SEC 20180212 250\n"
     ]
    }
   ],
   "source": [
    "test=\"SEC 20180212 250\"\n",
    "print(test)"
   ]
  },
  {
   "cell_type": "code",
   "execution_count": 34,
   "metadata": {},
   "outputs": [
    {
     "name": "stdout",
     "output_type": "stream",
     "text": [
      "['SEC', '20180212', '250']\n",
      "SEC 20180212 250\n",
      "SEC 20180212 250\n",
      "SEC\n",
      "20180212\n",
      "250\n"
     ]
    }
   ],
   "source": [
    "test=\"SEC 20180212 250\"\n",
    "#stock_name = test[0:3]\n",
    "#date = test[4:12]\n",
    "#value = test[13:17]\n",
    "stock_name2 = test.split(' ')\n",
    "print(stock_name2)\n",
    "\n",
    "print(stock_name2[0],stock_name2[1],stock_name2[2])\n",
    "\n",
    "stock_name = stock_name2[0]\n",
    "\n",
    "date = stock_name2[1]\n",
    "\n",
    "value = stock_name2[2]\n",
    "\n",
    "print(test)\n",
    "print(stock_name)\n",
    "print(date)\n",
    "print(value)\n"
   ]
  },
  {
   "cell_type": "code",
   "execution_count": 45,
   "metadata": {},
   "outputs": [
    {
     "name": "stdout",
     "output_type": "stream",
     "text": [
      "Sec 2018W28 250\n",
      "Sec\n",
      "['2018', '28']\n",
      "250\n"
     ]
    }
   ],
   "source": [
    "test = \"Sec 2018W28 250\"\n",
    "print(test)\n",
    "\n",
    "stock_name,date,value = test.split(' ')\n",
    "print(stock_name)\n",
    "print(date.split('W'))\n",
    "print(value)"
   ]
  },
  {
   "cell_type": "markdown",
   "metadata": {},
   "source": [
    "## 리스트"
   ]
  },
  {
   "cell_type": "code",
   "execution_count": 50,
   "metadata": {},
   "outputs": [
    {
     "name": "stdout",
     "output_type": "stream",
     "text": [
      "[120, 130, 140, 100, 150, 100, 11, 12]\n"
     ]
    }
   ],
   "source": [
    "functionList = [120,130,140,150]\n",
    "functionList.append(100) \n",
    "functionList.insert(3,100)\n",
    "functionList.extend([11,12])\n",
    "print(functionList)"
   ]
  },
  {
   "cell_type": "code",
   "execution_count": null,
   "metadata": {},
   "outputs": [],
   "source": [
    "test_list = [120,150,300,500,1000,100,2000]\n",
    "print(test_list)\n",
    "# 최소 최대 값을 뺀 평균 averagelist를 구하시오 \n",
    "\n",
    "minvalue = min(test_list)\n",
    "maxvalue = max(test_list)\n",
    "\n",
    "print(minvalue)\n",
    "print(maxvalue)\n",
    "\n",
    "print(test_list.index(minvalue))\n",
    "print(test_list.index(maxvalue))\n",
    "\n",
    "test_list.pop(test_list.index(minvalue))\n",
    "test_list.pop(test_list.index(maxvalue))\n",
    "\n",
    "print(test_list)\n",
    "\n",
    "#average = 0.0\n",
    "#if len(test)!=0:\n",
    "    average = sum(test_list)/len(test_list)\n",
    "#else:\n",
    "#    average = 1\n",
    "\n",
    "print(sum(test_list)"
   ]
  },
  {
   "cell_type": "code",
   "execution_count": 95,
   "metadata": {},
   "outputs": [
    {
     "data": {
      "text/plain": [
       "'C:\\\\Users\\\\cj\\\\Python_Working\\\\Python_CJ_ST\\\\Session01 - Why Python for Data Analysis'"
      ]
     },
     "execution_count": 95,
     "metadata": {},
     "output_type": "execute_result"
    }
   ],
   "source": [
    "pwd"
   ]
  },
  {
   "cell_type": "markdown",
   "metadata": {},
   "source": [
    "## 딕셔너리"
   ]
  },
  {
   "cell_type": "code",
   "execution_count": 87,
   "metadata": {},
   "outputs": [
    {
     "name": "stdout",
     "output_type": "stream",
     "text": [
      "{'name': 'sec', 'id': '300000', 'address': 'suwon'}\n",
      "sec\n",
      "suwon\n",
      "{'name': 'sec', 'address': 'suwon'}\n",
      "{'name': 'sec', 'address': 'Seoul'}\n"
     ]
    }
   ],
   "source": [
    "dic = {\"name\":\"sec\",\"id\":\"300000\",\"address\":\"suwon\"}\n",
    "\n",
    "print(dic)\n",
    "print(dic['name'])\n",
    "\n",
    "print(dic['address'])\n",
    "\n",
    "del dic[\"id\"]\n",
    "print(dic)\n",
    "\n",
    "dic[\"address\"] = 'Seoul'\n",
    "print(dic)"
   ]
  },
  {
   "cell_type": "code",
   "execution_count": null,
   "metadata": {},
   "outputs": [],
   "source": []
  }
 ],
 "metadata": {
  "kernelspec": {
   "display_name": "Python 3",
   "language": "python",
   "name": "python3"
  },
  "language_info": {
   "codemirror_mode": {
    "name": "ipython",
    "version": 3
   },
   "file_extension": ".py",
   "mimetype": "text/x-python",
   "name": "python",
   "nbconvert_exporter": "python",
   "pygments_lexer": "ipython3",
   "version": "3.6.4"
  }
 },
 "nbformat": 4,
 "nbformat_minor": 2
}
